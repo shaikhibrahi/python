{
  "nbformat": 4,
  "nbformat_minor": 0,
  "metadata": {
    "colab": {
      "provenance": []
    },
    "kernelspec": {
      "name": "python3",
      "display_name": "Python 3"
    },
    "language_info": {
      "name": "python"
    }
  },
  "cells": [
    {
      "cell_type": "code",
      "source": [
        "a=10\n",
        "print(a)\n",
        "print(\"address of a is :\",id(a))\n"
      ],
      "metadata": {
        "id": "5dJTR8VH2IqV",
        "outputId": "d4a41c26-b2bc-4372-b5f8-0e3f37599efd",
        "colab": {
          "base_uri": "https://localhost:8080/"
        }
      },
      "execution_count": 5,
      "outputs": [
        {
          "output_type": "stream",
          "name": "stdout",
          "text": [
            "10\n",
            "address of a is : 10751144\n"
          ]
        }
      ]
    }
  ]
}